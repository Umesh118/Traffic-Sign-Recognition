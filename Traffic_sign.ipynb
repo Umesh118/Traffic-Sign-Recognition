{
 "cells": [
  {
   "cell_type": "code",
   "execution_count": 48,
   "metadata": {},
   "outputs": [],
   "source": [
    "import numpy as np \n",
    "import pandas as pd \n",
    "import matplotlib.pyplot as plt\n",
    "import cv2\n",
    "import tensorflow as tf\n",
    "from PIL import Image\n",
    "import os\n",
    "from sklearn.model_selection import train_test_split\n",
    "from keras.utils import to_categorical\n",
    "from keras.models import Sequential, load_model\n",
    "from keras.layers import Conv2D, MaxPool2D, Dense, Flatten, Dropout"
   ]
  },
  {
   "cell_type": "code",
   "execution_count": 49,
   "metadata": {},
   "outputs": [],
   "source": [
    "data = []\n",
    "labels = []\n",
    "classes = 43\n",
    "cur_path = os.getcwd()\n",
    "#Retrieving the images and their labels \n",
    "for i in range(classes):\n",
    "    path = os.path.join(cur_path,'train',str(i))\n",
    "    images = os.listdir(path)\n",
    "    for a in images:\n",
    "        try:\n",
    "            image = Image.open(path + '\\\\'+ a)\n",
    "            image = image.resize((30,30))\n",
    "            image = np.array(image)\n",
    "            #sim = Image.fromarray(image)\n",
    "            data.append(image)\n",
    "            labels.append(i)\n",
    "        except:\n",
    "            print(\"Error loading image\")"
   ]
  },
  {
   "cell_type": "code",
   "execution_count": 50,
   "metadata": {},
   "outputs": [
    {
     "name": "stdout",
     "output_type": "stream",
     "text": [
      "(39209, 30, 30, 3) (39209,)\n",
      "(31367, 30, 30, 3) (7842, 30, 30, 3) (31367,) (7842,)\n"
     ]
    }
   ],
   "source": [
    "#Converting lists into numpy arrays\n",
    "data = np.array(data)\n",
    "labels = np.array(labels)\n",
    "print(data.shape, labels.shape)\n",
    "#Splitting training and testing dataset\n",
    "X_train, X_test, y_train, y_test = train_test_split(data, labels, test_size=0.2, random_state=42)\n",
    "print(X_train.shape, X_test.shape, y_train.shape, y_test.shape)\n",
    "#Converting the labels into one hot encoding\n",
    "y_train = to_categorical(y_train, 43)\n",
    "y_test = to_categorical(y_test, 43)"
   ]
  },
  {
   "cell_type": "code",
   "execution_count": 51,
   "metadata": {},
   "outputs": [],
   "source": [
    "#Building the model\n",
    "model = Sequential()\n",
    "model.add(Conv2D(filters=32, kernel_size=(5,5), activation='relu', input_shape=X_train.shape[1:]))\n",
    "model.add(Conv2D(filters=32, kernel_size=(5,5), activation='relu'))\n",
    "model.add(MaxPool2D(pool_size=(2, 2)))\n",
    "model.add(Dropout(rate=0.25))\n",
    "model.add(Conv2D(filters=64, kernel_size=(3, 3), activation='relu'))\n",
    "model.add(Conv2D(filters=64, kernel_size=(3, 3), activation='relu'))\n",
    "model.add(MaxPool2D(pool_size=(2, 2)))\n",
    "model.add(Dropout(rate=0.25))\n",
    "model.add(Flatten())\n",
    "model.add(Dense(256, activation='relu'))\n",
    "model.add(Dropout(rate=0.5))\n",
    "model.add(Dense(43, activation='softmax'))"
   ]
  },
  {
   "cell_type": "code",
   "execution_count": 52,
   "metadata": {},
   "outputs": [],
   "source": [
    "#Compilation of the model\n",
    "model.compile(loss='categorical_crossentropy', optimizer='adam', metrics=['accuracy'])"
   ]
  },
  {
   "cell_type": "code",
   "execution_count": 53,
   "metadata": {},
   "outputs": [
    {
     "name": "stdout",
     "output_type": "stream",
     "text": [
      "Train on 31367 samples, validate on 7842 samples\n",
      "Epoch 1/15\n",
      "31367/31367 [==============================] - 95s 3ms/step - loss: 2.0501 - accuracy: 0.4942 - val_loss: 0.5861 - val_accuracy: 0.8481\n",
      "Epoch 2/15\n",
      "31367/31367 [==============================] - 99s 3ms/step - loss: 0.8116 - accuracy: 0.7601 - val_loss: 0.3043 - val_accuracy: 0.9116\n",
      "Epoch 3/15\n",
      "31367/31367 [==============================] - 102s 3ms/step - loss: 0.6178 - accuracy: 0.8139 - val_loss: 0.2979 - val_accuracy: 0.9198\n",
      "Epoch 4/15\n",
      "31367/31367 [==============================] - 111s 4ms/step - loss: 0.5126 - accuracy: 0.8458 - val_loss: 0.2282 - val_accuracy: 0.9336\n",
      "Epoch 5/15\n",
      "31367/31367 [==============================] - 93s 3ms/step - loss: 0.4502 - accuracy: 0.8665 - val_loss: 0.1658 - val_accuracy: 0.9580\n",
      "Epoch 6/15\n",
      "31367/31367 [==============================] - 103s 3ms/step - loss: 0.4114 - accuracy: 0.8751 - val_loss: 0.1401 - val_accuracy: 0.9588\n",
      "Epoch 7/15\n",
      "31367/31367 [==============================] - 106s 3ms/step - loss: 0.3743 - accuracy: 0.8903 - val_loss: 0.1436 - val_accuracy: 0.9565\n",
      "Epoch 8/15\n",
      "31367/31367 [==============================] - 107s 3ms/step - loss: 0.3493 - accuracy: 0.8975 - val_loss: 0.1035 - val_accuracy: 0.9709\n",
      "Epoch 9/15\n",
      "31367/31367 [==============================] - 95s 3ms/step - loss: 0.3323 - accuracy: 0.9049 - val_loss: 0.1272 - val_accuracy: 0.9612\n",
      "Epoch 10/15\n",
      "31367/31367 [==============================] - 98s 3ms/step - loss: 0.3366 - accuracy: 0.9032 - val_loss: 0.1118 - val_accuracy: 0.9690\n",
      "Epoch 11/15\n",
      "31367/31367 [==============================] - 91s 3ms/step - loss: 0.3092 - accuracy: 0.9130 - val_loss: 0.1354 - val_accuracy: 0.9600\n",
      "Epoch 12/15\n",
      "31367/31367 [==============================] - 95s 3ms/step - loss: 0.2969 - accuracy: 0.9149 - val_loss: 0.1078 - val_accuracy: 0.9680\n",
      "Epoch 13/15\n",
      "31367/31367 [==============================] - 102s 3ms/step - loss: 0.2933 - accuracy: 0.9174 - val_loss: 0.0993 - val_accuracy: 0.9697\n",
      "Epoch 14/15\n",
      "31367/31367 [==============================] - 100s 3ms/step - loss: 0.2979 - accuracy: 0.9187 - val_loss: 0.1167 - val_accuracy: 0.9633\n",
      "Epoch 15/15\n",
      "31367/31367 [==============================] - 100s 3ms/step - loss: 0.2853 - accuracy: 0.9211 - val_loss: 0.0879 - val_accuracy: 0.9723\n"
     ]
    }
   ],
   "source": [
    "epochs = 15\n",
    "history = model.fit(X_train, y_train, batch_size=32, epochs=epochs, validation_data=(X_test, y_test))"
   ]
  },
  {
   "cell_type": "code",
   "execution_count": 54,
   "metadata": {},
   "outputs": [],
   "source": [
    "model.save(\"my_model.h5\")"
   ]
  },
  {
   "cell_type": "code",
   "execution_count": 59,
   "metadata": {},
   "outputs": [
    {
     "name": "stdout",
     "output_type": "stream",
     "text": [
      "Using matplotlib backend: Qt5Agg\n"
     ]
    }
   ],
   "source": [
    "#plotting graphs for accuracy \n",
    "%matplotlib \n",
    "plt.figure(0)\n",
    "plt.plot(history.history['accuracy'], label='training accuracy')\n",
    "plt.plot(history.history['val_accuracy'], label='val accuracy')\n",
    "plt.title('Accuracy')\n",
    "plt.xlabel('epochs')\n",
    "plt.ylabel('accuracy')\n",
    "plt.legend()\n",
    "plt.show()\n",
    "plt.figure(1)\n",
    "plt.plot(history.history['loss'], label='training loss')\n",
    "plt.plot(history.history['val_loss'], label='val loss')\n",
    "plt.title('Loss')\n",
    "plt.xlabel('epochs')\n",
    "plt.ylabel('loss')\n",
    "plt.legend()\n",
    "plt.show()"
   ]
  },
  {
   "cell_type": "code",
   "execution_count": 64,
   "metadata": {},
   "outputs": [
    {
     "name": "stdout",
     "output_type": "stream",
     "text": [
      "0.9303246239113222\n"
     ]
    }
   ],
   "source": [
    "#testing accuracy on test dataset\n",
    "from sklearn.metrics import accuracy_score\n",
    "y_test = pd.read_csv('Test.csv')\n",
    "labels = y_test[\"ClassId\"].values\n",
    "imgs = y_test[\"Path\"].values\n",
    "data=[]\n",
    "for img in imgs:\n",
    "    image = Image.open(img)\n",
    "    image = image.resize((30,30))\n",
    "    data.append(np.array(image))\n",
    "X_test=np.array(data)\n",
    "pred = model.predict_classes(X_test)\n",
    "#Accuracy with the test data\n",
    "from sklearn.metrics import accuracy_score\n",
    "print(accuracy_score(labels, pred))"
   ]
  },
  {
   "cell_type": "code",
   "execution_count": null,
   "metadata": {},
   "outputs": [],
   "source": []
  }
 ],
 "metadata": {
  "kernelspec": {
   "display_name": "Python 3",
   "language": "python",
   "name": "python3"
  },
  "language_info": {
   "codemirror_mode": {
    "name": "ipython",
    "version": 3
   },
   "file_extension": ".py",
   "mimetype": "text/x-python",
   "name": "python",
   "nbconvert_exporter": "python",
   "pygments_lexer": "ipython3",
   "version": "3.7.4"
  }
 },
 "nbformat": 4,
 "nbformat_minor": 2
}
